{
 "cells": [
  {
   "cell_type": "code",
   "execution_count": null,
   "id": "8c3254d6",
   "metadata": {},
   "outputs": [],
   "source": [
    "# Grouping tweet data by user and calculating the average retweets and likes\n",
    "tweet_aggregates = tweets_df.groupby('user_id').agg({\n",
    "    'retweets': 'mean',\n",
    "    'likes': 'mean',\n",
    "    'tweet_id': 'count'\n",
    "}).reset_index()\n",
    "tweet_aggregates.rename(columns={'retweets': 'avg_retweets', 'likes': 'avg_likes', 'tweet_id': 'total_tweets'}, inplace=True)\n",
    "\n",
    "# Merging the aggregates with user data\n",
    "merged_df = pd.merge(users_df, tweet_aggregates, on='user_id', how='left')\n",
    "\n",
    "# Calculating the tweet frequency\n",
    "merged_df['days_since_join'] = (datetime.now().date() - merged_df['join_date']).dt.days\n",
    "merged_df['tweet_frequency'] = merged_df['total_tweets'] / merged_df['days_since_join']\n",
    "\n",
    "# Calculating followers to following ratio\n",
    "merged_df['followers_following_ratio'] = merged_df['followers_count'] / merged_df['following_count']\n",
    "\n",
    "# Selecting the relevant features\n",
    "features_df = merged_df[['user_id', 'tweet_frequency', 'avg_retweets', 'avg_likes', 'followers_following_ratio']]\n",
    "\n",
    "features_df\n"
   ]
  },
  {
   "cell_type": "code",
   "execution_count": null,
   "id": "8bcd5d33",
   "metadata": {},
   "outputs": [],
   "source": [
    "import numpy as np\n",
    "\n",
    "# Extracting feature vectors for the first two users\n",
    "user_1_features = features_df.iloc[0, 1:].values\n",
    "user_2_features = features_df.iloc[1, 1:].values\n",
    "\n",
    "# Calculating Euclidean distance\n",
    "euclidean_distance = np.linalg.norm(user_1_features - user_2_features)\n",
    "euclidean_distance\n"
   ]
  },
  {
   "cell_type": "code",
   "execution_count": null,
   "id": "5f107575",
   "metadata": {},
   "outputs": [],
   "source": [
    "# Generating random labels (1 for genuine, 0 for fake)\n",
    "np.random.seed(42)\n",
    "features_df['label'] = np.random.choice([0, 1], size=num_users)\n",
    "\n",
    "# Splitting the data into features (X) and target (y)\n",
    "X = features_df.drop(columns=['user_id', 'label'])\n",
    "y = features_df['label']\n",
    "\n",
    "features_df[['user_id', 'label']]\n"
   ]
  },
  {
   "cell_type": "code",
   "execution_count": null,
   "id": "19ce9597",
   "metadata": {},
   "outputs": [],
   "source": [
    "from sklearn.model_selection import train_test_split\n",
    "from sklearn.linear_model import LogisticRegression\n",
    "from sklearn.metrics import accuracy_score, confusion_matrix\n",
    "\n",
    "# Splitting the data into training and testing sets (80% train, 20% test)\n",
    "X_train, X_test, y_train, y_test = train_test_split(X, y, test_size=0.2, random_state=42)\n",
    "\n",
    "# Training a Logistic Regression model\n",
    "clf = LogisticRegression()\n",
    "clf.fit(X_train, y_train)\n",
    "\n",
    "# Making predictions on the test set\n",
    "y_pred = clf.predict(X_test)\n",
    "\n",
    "# Calculating accuracy\n",
    "accuracy = accuracy_score(y_test, y_pred)\n",
    "\n",
    "# Calculating confusion matrix\n",
    "conf_matrix = confusion_matrix(y_test, y_pred)\n",
    "\n",
    "accuracy, conf_matrix\n"
   ]
  },
  {
   "cell_type": "code",
   "execution_count": null,
   "id": "13255665",
   "metadata": {},
   "outputs": [],
   "source": []
  }
 ],
 "metadata": {
  "kernelspec": {
   "display_name": "Python 3 (ipykernel)",
   "language": "python",
   "name": "python3"
  },
  "language_info": {
   "codemirror_mode": {
    "name": "ipython",
    "version": 3
   },
   "file_extension": ".py",
   "mimetype": "text/x-python",
   "name": "python",
   "nbconvert_exporter": "python",
   "pygments_lexer": "ipython3",
   "version": "3.9.13"
  }
 },
 "nbformat": 4,
 "nbformat_minor": 5
}
